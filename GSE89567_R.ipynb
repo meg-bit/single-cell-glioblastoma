{
 "cells": [
  {
   "cell_type": "markdown",
   "id": "64909872",
   "metadata": {},
   "source": [
    "- title: \"Immuno-oncology workflow\"\n",
    "- author: \"Margaret Paiva\"\n",
    "- date: \"3/19/2022\"\n",
    "- output: R notebook"
   ]
  },
  {
   "cell_type": "markdown",
   "id": "d24e851c",
   "metadata": {},
   "source": [
    "## Dependencies"
   ]
  },
  {
   "cell_type": "code",
   "execution_count": 1,
   "id": "df2bd4df",
   "metadata": {},
   "outputs": [],
   "source": [
    "#install.packages('IRkernel')\n",
    "#IRkernel::installspec()"
   ]
  },
  {
   "cell_type": "code",
   "execution_count": 2,
   "id": "7c6bdf9a",
   "metadata": {
    "scrolled": false
   },
   "outputs": [],
   "source": [
    "# cran packages\n",
    "x <- c(\n",
    "    'dplyr',\n",
    "    'tidyr', \n",
    "    'ggplot2',\n",
    "    'miceadds' # to source all files at once\n",
    ")\n",
    "# bioconductor packages\n",
    "y <- c(\n",
    "    'Seurat', \n",
    "    'nichenetr'\n",
    ")"
   ]
  },
  {
   "cell_type": "code",
   "execution_count": 3,
   "id": "ac10588e",
   "metadata": {},
   "outputs": [
    {
     "name": "stdout",
     "output_type": "stream",
     "text": [
      "[1] \"miceadds\"\n"
     ]
    },
    {
     "name": "stderr",
     "output_type": "stream",
     "text": [
      "also installing the dependencies ‘mice’, ‘mitools’\n",
      "\n",
      "\n",
      "Updating HTML index of packages in '.Library'\n",
      "\n",
      "Making 'packages.html' ...\n",
      " done\n",
      "\n"
     ]
    }
   ],
   "source": [
    "# install cran packages\n",
    "for (pkg in x) {\n",
    "    if (!pkg %in% rownames(installed.packages())) {\n",
    "        print(pkg)\n",
    "        install.packages(pkg)\n",
    "    }\n",
    "}"
   ]
  },
  {
   "cell_type": "code",
   "execution_count": 4,
   "id": "a04597e7",
   "metadata": {
    "scrolled": false
   },
   "outputs": [],
   "source": [
    "# install bioconductor packages\n",
    "if (!requireNamespace(\"BiocManager\", quietly=TRUE))\n",
    "    install.packages(\"BiocManager\")\n",
    "for (pkg in y) {\n",
    "    if (!requireNamespace(pkg, quietly=TRUE)) {\n",
    "        print(pkg)\n",
    "        BiocManager::install(pkg)\n",
    "    }\n",
    "}"
   ]
  },
  {
   "cell_type": "code",
   "execution_count": 4,
   "id": "3153dc22",
   "metadata": {},
   "outputs": [],
   "source": [
    "# load packages\n",
    "load_lib <- function(x) {\n",
    "    suppressPackageStartupMessages(library(x, character.only = TRUE))\n",
    "}\n",
    "invisible(lapply(c(x, y), load_lib))"
   ]
  },
  {
   "cell_type": "code",
   "execution_count": 5,
   "id": "c7ca8bb7",
   "metadata": {},
   "outputs": [],
   "source": [
    "source.all('./nichenetr/R')"
   ]
  },
  {
   "cell_type": "markdown",
   "id": "67312a86",
   "metadata": {},
   "source": [
    "## Data"
   ]
  },
  {
   "cell_type": "code",
   "execution_count": 10,
   "id": "47e4b2ce",
   "metadata": {},
   "outputs": [
    {
     "data": {
      "text/html": [
       "<table class=\"dataframe\">\n",
       "<caption>A matrix: 5 × 5 of type dbl</caption>\n",
       "<thead>\n",
       "\t<tr><th></th><th scope=col>CXCL1</th><th scope=col>CXCL2</th><th scope=col>CXCL3</th><th scope=col>CXCL5</th><th scope=col>PPBP</th></tr>\n",
       "</thead>\n",
       "<tbody>\n",
       "\t<tr><th scope=row>A1BG</th><td>3.534343e-04</td><td>4.041324e-04</td><td>3.729920e-04</td><td>3.080640e-04</td><td>2.628388e-04</td></tr>\n",
       "\t<tr><th scope=row>A1BG-AS1</th><td>1.650894e-04</td><td>1.509213e-04</td><td>1.583594e-04</td><td>1.317253e-04</td><td>1.231819e-04</td></tr>\n",
       "\t<tr><th scope=row>A1CF</th><td>5.787175e-04</td><td>4.596295e-04</td><td>3.895907e-04</td><td>3.293275e-04</td><td>3.211944e-04</td></tr>\n",
       "\t<tr><th scope=row>A2M</th><td>6.027058e-04</td><td>5.996617e-04</td><td>5.164365e-04</td><td>4.517236e-04</td><td>4.590521e-04</td></tr>\n",
       "\t<tr><th scope=row>A2M-AS1</th><td>8.898724e-05</td><td>8.243341e-05</td><td>7.484018e-05</td><td>4.912514e-05</td><td>5.120439e-05</td></tr>\n",
       "</tbody>\n",
       "</table>\n"
      ],
      "text/latex": [
       "A matrix: 5 × 5 of type dbl\n",
       "\\begin{tabular}{r|lllll}\n",
       "  & CXCL1 & CXCL2 & CXCL3 & CXCL5 & PPBP\\\\\n",
       "\\hline\n",
       "\tA1BG & 3.534343e-04 & 4.041324e-04 & 3.729920e-04 & 3.080640e-04 & 2.628388e-04\\\\\n",
       "\tA1BG-AS1 & 1.650894e-04 & 1.509213e-04 & 1.583594e-04 & 1.317253e-04 & 1.231819e-04\\\\\n",
       "\tA1CF & 5.787175e-04 & 4.596295e-04 & 3.895907e-04 & 3.293275e-04 & 3.211944e-04\\\\\n",
       "\tA2M & 6.027058e-04 & 5.996617e-04 & 5.164365e-04 & 4.517236e-04 & 4.590521e-04\\\\\n",
       "\tA2M-AS1 & 8.898724e-05 & 8.243341e-05 & 7.484018e-05 & 4.912514e-05 & 5.120439e-05\\\\\n",
       "\\end{tabular}\n"
      ],
      "text/markdown": [
       "\n",
       "A matrix: 5 × 5 of type dbl\n",
       "\n",
       "| <!--/--> | CXCL1 | CXCL2 | CXCL3 | CXCL5 | PPBP |\n",
       "|---|---|---|---|---|---|\n",
       "| A1BG | 3.534343e-04 | 4.041324e-04 | 3.729920e-04 | 3.080640e-04 | 2.628388e-04 |\n",
       "| A1BG-AS1 | 1.650894e-04 | 1.509213e-04 | 1.583594e-04 | 1.317253e-04 | 1.231819e-04 |\n",
       "| A1CF | 5.787175e-04 | 4.596295e-04 | 3.895907e-04 | 3.293275e-04 | 3.211944e-04 |\n",
       "| A2M | 6.027058e-04 | 5.996617e-04 | 5.164365e-04 | 4.517236e-04 | 4.590521e-04 |\n",
       "| A2M-AS1 | 8.898724e-05 | 8.243341e-05 | 7.484018e-05 | 4.912514e-05 | 5.120439e-05 |\n",
       "\n"
      ],
      "text/plain": [
       "         CXCL1        CXCL2        CXCL3        CXCL5        PPBP        \n",
       "A1BG     3.534343e-04 4.041324e-04 3.729920e-04 3.080640e-04 2.628388e-04\n",
       "A1BG-AS1 1.650894e-04 1.509213e-04 1.583594e-04 1.317253e-04 1.231819e-04\n",
       "A1CF     5.787175e-04 4.596295e-04 3.895907e-04 3.293275e-04 3.211944e-04\n",
       "A2M      6.027058e-04 5.996617e-04 5.164365e-04 4.517236e-04 4.590521e-04\n",
       "A2M-AS1  8.898724e-05 8.243341e-05 7.484018e-05 4.912514e-05 5.120439e-05"
      ]
     },
     "metadata": {},
     "output_type": "display_data"
    }
   ],
   "source": [
    "# ligand_target_matrix  <- readRDS(\n",
    "#     url(\"https://zenodo.org/record/3260758/files/ligand_target_matrix.rds\"))\n",
    "ligand_target_matrix  <- readRDS(\"data/ligand_target_matrix.rds\")\n",
    "ligand_target_matrix[1:5,1:5]"
   ]
  },
  {
   "cell_type": "code",
   "execution_count": 9,
   "id": "79325511",
   "metadata": {},
   "outputs": [
    {
     "data": {
      "text/html": [
       "<table class=\"dataframe\">\n",
       "<caption>A tibble: 6 × 4</caption>\n",
       "<thead>\n",
       "\t<tr><th scope=col>from</th><th scope=col>to</th><th scope=col>source</th><th scope=col>database</th></tr>\n",
       "\t<tr><th scope=col>&lt;chr&gt;</th><th scope=col>&lt;chr&gt;</th><th scope=col>&lt;chr&gt;</th><th scope=col>&lt;chr&gt;</th></tr>\n",
       "</thead>\n",
       "<tbody>\n",
       "\t<tr><td>CXCL1</td><td>CXCR2</td><td>kegg_cytokines</td><td>kegg</td></tr>\n",
       "\t<tr><td>CXCL2</td><td>CXCR2</td><td>kegg_cytokines</td><td>kegg</td></tr>\n",
       "\t<tr><td>CXCL3</td><td>CXCR2</td><td>kegg_cytokines</td><td>kegg</td></tr>\n",
       "\t<tr><td>CXCL5</td><td>CXCR2</td><td>kegg_cytokines</td><td>kegg</td></tr>\n",
       "\t<tr><td>PPBP </td><td>CXCR2</td><td>kegg_cytokines</td><td>kegg</td></tr>\n",
       "\t<tr><td>CXCL6</td><td>CXCR2</td><td>kegg_cytokines</td><td>kegg</td></tr>\n",
       "</tbody>\n",
       "</table>\n"
      ],
      "text/latex": [
       "A tibble: 6 × 4\n",
       "\\begin{tabular}{llll}\n",
       " from & to & source & database\\\\\n",
       " <chr> & <chr> & <chr> & <chr>\\\\\n",
       "\\hline\n",
       "\t CXCL1 & CXCR2 & kegg\\_cytokines & kegg\\\\\n",
       "\t CXCL2 & CXCR2 & kegg\\_cytokines & kegg\\\\\n",
       "\t CXCL3 & CXCR2 & kegg\\_cytokines & kegg\\\\\n",
       "\t CXCL5 & CXCR2 & kegg\\_cytokines & kegg\\\\\n",
       "\t PPBP  & CXCR2 & kegg\\_cytokines & kegg\\\\\n",
       "\t CXCL6 & CXCR2 & kegg\\_cytokines & kegg\\\\\n",
       "\\end{tabular}\n"
      ],
      "text/markdown": [
       "\n",
       "A tibble: 6 × 4\n",
       "\n",
       "| from &lt;chr&gt; | to &lt;chr&gt; | source &lt;chr&gt; | database &lt;chr&gt; |\n",
       "|---|---|---|---|\n",
       "| CXCL1 | CXCR2 | kegg_cytokines | kegg |\n",
       "| CXCL2 | CXCR2 | kegg_cytokines | kegg |\n",
       "| CXCL3 | CXCR2 | kegg_cytokines | kegg |\n",
       "| CXCL5 | CXCR2 | kegg_cytokines | kegg |\n",
       "| PPBP  | CXCR2 | kegg_cytokines | kegg |\n",
       "| CXCL6 | CXCR2 | kegg_cytokines | kegg |\n",
       "\n"
      ],
      "text/plain": [
       "  from  to    source         database\n",
       "1 CXCL1 CXCR2 kegg_cytokines kegg    \n",
       "2 CXCL2 CXCR2 kegg_cytokines kegg    \n",
       "3 CXCL3 CXCR2 kegg_cytokines kegg    \n",
       "4 CXCL5 CXCR2 kegg_cytokines kegg    \n",
       "5 PPBP  CXCR2 kegg_cytokines kegg    \n",
       "6 CXCL6 CXCR2 kegg_cytokines kegg    "
      ]
     },
     "metadata": {},
     "output_type": "display_data"
    }
   ],
   "source": [
    "# lr_network = readRDS(\n",
    "#     url(\"https://zenodo.org/record/3260758/files/lr_network.rds\"))\n",
    "lr_network = readRDS(\"data/lr_network.rds\")\n",
    "head(lr_network)\n"
   ]
  },
  {
   "cell_type": "code",
   "execution_count": 8,
   "id": "3ceeaced",
   "metadata": {
    "scrolled": false
   },
   "outputs": [
    {
     "data": {
      "text/html": [
       "<table class=\"dataframe\">\n",
       "<caption>A tibble: 6 × 3</caption>\n",
       "<thead>\n",
       "\t<tr><th scope=col>from</th><th scope=col>to</th><th scope=col>weight</th></tr>\n",
       "\t<tr><th scope=col>&lt;chr&gt;</th><th scope=col>&lt;chr&gt;</th><th scope=col>&lt;dbl&gt;</th></tr>\n",
       "</thead>\n",
       "<tbody>\n",
       "\t<tr><td>A1BG</td><td>ABCC6 </td><td>0.42164389</td></tr>\n",
       "\t<tr><td>A1BG</td><td>ACE2  </td><td>0.10074109</td></tr>\n",
       "\t<tr><td>A1BG</td><td>ADAM10</td><td>0.09698978</td></tr>\n",
       "\t<tr><td>A1BG</td><td>AGO1  </td><td>0.05245879</td></tr>\n",
       "\t<tr><td>A1BG</td><td>AKT1  </td><td>0.08553468</td></tr>\n",
       "\t<tr><td>A1BG</td><td>ANXA7 </td><td>0.45659947</td></tr>\n",
       "</tbody>\n",
       "</table>\n"
      ],
      "text/latex": [
       "A tibble: 6 × 3\n",
       "\\begin{tabular}{lll}\n",
       " from & to & weight\\\\\n",
       " <chr> & <chr> & <dbl>\\\\\n",
       "\\hline\n",
       "\t A1BG & ABCC6  & 0.42164389\\\\\n",
       "\t A1BG & ACE2   & 0.10074109\\\\\n",
       "\t A1BG & ADAM10 & 0.09698978\\\\\n",
       "\t A1BG & AGO1   & 0.05245879\\\\\n",
       "\t A1BG & AKT1   & 0.08553468\\\\\n",
       "\t A1BG & ANXA7  & 0.45659947\\\\\n",
       "\\end{tabular}\n"
      ],
      "text/markdown": [
       "\n",
       "A tibble: 6 × 3\n",
       "\n",
       "| from &lt;chr&gt; | to &lt;chr&gt; | weight &lt;dbl&gt; |\n",
       "|---|---|---|\n",
       "| A1BG | ABCC6  | 0.42164389 |\n",
       "| A1BG | ACE2   | 0.10074109 |\n",
       "| A1BG | ADAM10 | 0.09698978 |\n",
       "| A1BG | AGO1   | 0.05245879 |\n",
       "| A1BG | AKT1   | 0.08553468 |\n",
       "| A1BG | ANXA7  | 0.45659947 |\n",
       "\n"
      ],
      "text/plain": [
       "  from to     weight    \n",
       "1 A1BG ABCC6  0.42164389\n",
       "2 A1BG ACE2   0.10074109\n",
       "3 A1BG ADAM10 0.09698978\n",
       "4 A1BG AGO1   0.05245879\n",
       "5 A1BG AKT1   0.08553468\n",
       "6 A1BG ANXA7  0.45659947"
      ]
     },
     "metadata": {},
     "output_type": "display_data"
    },
    {
     "data": {
      "text/html": [
       "<table class=\"dataframe\">\n",
       "<caption>A tibble: 6 × 3</caption>\n",
       "<thead>\n",
       "\t<tr><th scope=col>from</th><th scope=col>to</th><th scope=col>weight</th></tr>\n",
       "\t<tr><th scope=col>&lt;chr&gt;</th><th scope=col>&lt;chr&gt;</th><th scope=col>&lt;dbl&gt;</th></tr>\n",
       "</thead>\n",
       "<tbody>\n",
       "\t<tr><td>A1BG </td><td>A2M   </td><td>0.02944793</td></tr>\n",
       "\t<tr><td>AAAS </td><td>GFAP  </td><td>0.02904173</td></tr>\n",
       "\t<tr><td>AADAC</td><td>CYP3A4</td><td>0.04215706</td></tr>\n",
       "\t<tr><td>AADAC</td><td>IRF8  </td><td>0.02745930</td></tr>\n",
       "\t<tr><td>AATF </td><td>ATM   </td><td>0.03299318</td></tr>\n",
       "\t<tr><td>AATF </td><td>ATR   </td><td>0.03545127</td></tr>\n",
       "</tbody>\n",
       "</table>\n"
      ],
      "text/latex": [
       "A tibble: 6 × 3\n",
       "\\begin{tabular}{lll}\n",
       " from & to & weight\\\\\n",
       " <chr> & <chr> & <dbl>\\\\\n",
       "\\hline\n",
       "\t A1BG  & A2M    & 0.02944793\\\\\n",
       "\t AAAS  & GFAP   & 0.02904173\\\\\n",
       "\t AADAC & CYP3A4 & 0.04215706\\\\\n",
       "\t AADAC & IRF8   & 0.02745930\\\\\n",
       "\t AATF  & ATM    & 0.03299318\\\\\n",
       "\t AATF  & ATR    & 0.03545127\\\\\n",
       "\\end{tabular}\n"
      ],
      "text/markdown": [
       "\n",
       "A tibble: 6 × 3\n",
       "\n",
       "| from &lt;chr&gt; | to &lt;chr&gt; | weight &lt;dbl&gt; |\n",
       "|---|---|---|\n",
       "| A1BG  | A2M    | 0.02944793 |\n",
       "| AAAS  | GFAP   | 0.02904173 |\n",
       "| AADAC | CYP3A4 | 0.04215706 |\n",
       "| AADAC | IRF8   | 0.02745930 |\n",
       "| AATF  | ATM    | 0.03299318 |\n",
       "| AATF  | ATR    | 0.03545127 |\n",
       "\n"
      ],
      "text/plain": [
       "  from  to     weight    \n",
       "1 A1BG  A2M    0.02944793\n",
       "2 AAAS  GFAP   0.02904173\n",
       "3 AADAC CYP3A4 0.04215706\n",
       "4 AADAC IRF8   0.02745930\n",
       "5 AATF  ATM    0.03299318\n",
       "6 AATF  ATR    0.03545127"
      ]
     },
     "metadata": {},
     "output_type": "display_data"
    }
   ],
   "source": [
    "# weighted_networks = readRDS(\n",
    "#     url(\"https://zenodo.org/record/3260758/files/weighted_networks.rds\"))\n",
    "weighted_networks = readRDS(\"data/weighted_networks.rds\")\n",
    "weighted_networks_lr = weighted_networks$lr_sig %>% \n",
    "    inner_join(lr_network %>% distinct(from,to), \n",
    "               by = c(\"from\",\"to\"))\n",
    "# interactions and their weights in the ligand-receptor + signaling network\n",
    "head(weighted_networks$lr_sig) \n",
    "# interactions and their weights in the gene regulatory network\n",
    "head(weighted_networks$gr) "
   ]
  },
  {
   "cell_type": "code",
   "execution_count": null,
   "id": "f7a018a4",
   "metadata": {},
   "outputs": [],
   "source": [
    "ligands = lr_network %>% pull(from) %>% unique()\n",
    "receptors = lr_network %>% pull(to) %>% unique()"
   ]
  }
 ],
 "metadata": {
  "kernelspec": {
   "display_name": "R",
   "language": "R",
   "name": "ir"
  },
  "language_info": {
   "codemirror_mode": "r",
   "file_extension": ".r",
   "mimetype": "text/x-r-source",
   "name": "R",
   "pygments_lexer": "r",
   "version": "4.1.2"
  },
  "widgets": {
   "application/vnd.jupyter.widget-state+json": {
    "state": {},
    "version_major": 2,
    "version_minor": 0
   }
  }
 },
 "nbformat": 4,
 "nbformat_minor": 5
}
